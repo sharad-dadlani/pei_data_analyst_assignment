# converting Shipping.json to shipping.xlsx

import pandas as pd

df = pd.read_json("Shipping.json")
df

df.to_excel("shipping.xlsx", index = False)
